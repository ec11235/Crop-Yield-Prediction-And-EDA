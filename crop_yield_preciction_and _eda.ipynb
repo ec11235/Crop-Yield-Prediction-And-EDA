{
 "cells": [
  {
   "cell_type": "markdown",
   "id": "d4853590-fba0-4591-9c76-ad6549eda4bb",
   "metadata": {
    "tags": []
   },
   "source": [
    "# Exploratory Data Analysis For Crop Yeild Predictions\n",
    "## Project Objectives:\n",
    "1. Understand the dataset and the problem\n",
    "2. Import and inspect the data\n",
    "3. Visualize the data\n",
    "4. Preprocess data (cleaning and handling of missing values/outliers)\n",
    "5. Data transformation\n",
    "6. Attribute relationships and correlation\n",
    "7. Model Development\n",
    "8. Model Evaluation and Refinement\n"
   ]
  },
  {
   "cell_type": "markdown",
   "id": "ef8f8626-cd58-45a3-97da-c22e5474e281",
   "metadata": {},
   "source": [
    "## Assumptions:\n",
    "1. Location is USA and region describes where in the USA the sample was gathered\n",
    "2. Weather condition is the most frequent type of weather the sample incurred during its growth cycle"
   ]
  },
  {
   "cell_type": "markdown",
   "id": "5d41b555-5894-494b-9498-0484f646bdf2",
   "metadata": {},
   "source": [
    "The problem here is **Crop Yeild Prediction** using a variety of variables such as climate data, location data, crop type, and farming practices. The dataset is of CSV format and includes categorical, bool, and numeric attributes."
   ]
  },
  {
   "cell_type": "markdown",
   "id": "89396834-b1aa-41fd-9463-b6c1dd47a5b0",
   "metadata": {},
   "source": [
    "## Step 1: Import Necessary Libraries "
   ]
  },
  {
   "cell_type": "code",
   "execution_count": 1,
   "id": "4899b043-016f-48cb-821e-cc930b4ae327",
   "metadata": {},
   "outputs": [],
   "source": [
    "import seaborn as sns\n",
    "import numpy as np\n",
    "import pandas as pd\n",
    "import matplotlib.pyplot as plt\n",
    "from sklearn.preprocessing import PolynomialFeatures, StandardScaler\n",
    "from sklearn.linear_model import LinearRegression, Ridge\n",
    "from sklearn.pipeline import Pipeline\n",
    "from sklearn.metrics import mean_squared_error, r2_score\n",
    "from sklearn.model_selection import train_test_split, cross_val_score\n",
    "import os\n",
    "import gc\n",
    "from scipy import stats\n",
    "import warnings\n",
    "%matplotlib inline\n",
    "warnings.filterwarnings(\"ignore\",category=UserWarning)\n",
    "warnings.filterwarnings(\"ignore\",category=FutureWarning)"
   ]
  },
  {
   "cell_type": "markdown",
   "id": "62ed9748-4e09-4b2e-8dd8-a3e94b4ab4c5",
   "metadata": {},
   "source": [
    "## Step 2: Import and Inspect Dataset"
   ]
  },
  {
   "cell_type": "code",
   "execution_count": 2,
   "id": "2a7b8f6e-97d2-4261-a6e4-0e2d6791547c",
   "metadata": {
    "tags": []
   },
   "outputs": [],
   "source": [
    "filepath = 'crop_yield.csv'"
   ]
  },
  {
   "cell_type": "code",
   "execution_count": null,
   "id": "95eb1ef1-1ab4-4ccc-a721-c21f62782811",
   "metadata": {
    "tags": []
   },
   "outputs": [],
   "source": [
    "headers = ['region','soil_type','crop','rainfall_mm','temp_c','fertilizer_use','irrigation_use','weather','days_to_harvest','yield_per_hect']\n",
    "data = pd.read_csv(filepath)\n",
    "data.columns = headers\n",
    "data"
   ]
  },
  {
   "cell_type": "code",
   "execution_count": null,
   "id": "871fee54-2927-4e48-bd7e-86ca633c8b17",
   "metadata": {
    "tags": []
   },
   "outputs": [],
   "source": [
    "data.info()"
   ]
  },
  {
   "cell_type": "code",
   "execution_count": null,
   "id": "1970556d-e7a1-409e-8632-13153d1217d1",
   "metadata": {
    "tags": []
   },
   "outputs": [],
   "source": [
    "data.describe()"
   ]
  },
  {
   "cell_type": "code",
   "execution_count": null,
   "id": "158f2090-0878-49ee-92b3-218f30c2cb23",
   "metadata": {
    "tags": []
   },
   "outputs": [],
   "source": [
    "null_values = data.isna().sum()\n",
    "print(\"Null Values Per Column\")\n",
    "print(null_values, \"\\n\")\n",
    "\n",
    "duplicated_rows = data.duplicated().sum()\n",
    "print(\"Number of Duplicated Rows in Dataset\")\n",
    "print(duplicated_rows)"
   ]
  },
  {
   "cell_type": "markdown",
   "id": "b381794f-1245-4886-b6e7-fa56f5b9e8d9",
   "metadata": {},
   "source": [
    "### Using the information gathered from initial inspection we can see that this is a complete dataset with no null values. It can be seen that the minimum value from crop yeild  is negative, this should not be the case and will be treated as an error. \n",
    "\n",
    "## Removal of rows containing a negative yield"
   ]
  },
  {
   "cell_type": "code",
   "execution_count": 7,
   "id": "5eeb1e7c-abba-4642-89cf-d6e5c94a6493",
   "metadata": {
    "tags": []
   },
   "outputs": [],
   "source": [
    "data = data[data['yield_per_hect'] >=0]"
   ]
  },
  {
   "cell_type": "code",
   "execution_count": 8,
   "id": "64b89483-4e14-4861-9f83-028b07a6d28b",
   "metadata": {},
   "outputs": [
    {
     "data": {
      "text/plain": [
       "(999769, 10)"
      ]
     },
     "execution_count": 8,
     "metadata": {},
     "output_type": "execute_result"
    }
   ],
   "source": [
    "data.shape"
   ]
  },
  {
   "cell_type": "code",
   "execution_count": null,
   "id": "474ecad3-5d9f-46ed-875f-512683bf37d7",
   "metadata": {},
   "outputs": [],
   "source": [
    "data.info()"
   ]
  },
  {
   "cell_type": "markdown",
   "id": "4f642973-1301-4a41-9d98-06e2b29c75ca",
   "metadata": {
    "tags": []
   },
   "source": [
    "## Step 3: Understand and Visualize the Data\n"
   ]
  },
  {
   "cell_type": "markdown",
   "id": "e077978b-ab44-424a-9ae0-8717e6645f36",
   "metadata": {},
   "source": [
    "### First we will plot the distributions of our contiunuos variables using histograms"
   ]
  },
  {
   "cell_type": "code",
   "execution_count": 10,
   "id": "40720045-d69b-4db3-b571-0259a1fa317d",
   "metadata": {
    "tags": []
   },
   "outputs": [
    {
     "data": {
      "text/plain": [
       "Text(0.5, 1.0, 'Crop Yeild Distrubution')"
      ]
     },
     "execution_count": 10,
     "metadata": {},
     "output_type": "execute_result"
    }
   ],
   "source": [
    "sns.distplot(data['yield_per_hect']).set_title(\"Crop Yeild Distrubution\")"
   ]
  },
  {
   "cell_type": "code",
   "execution_count": 11,
   "id": "2f26cbb6-3228-40fa-9123-7a8a7f6bb05e",
   "metadata": {
    "tags": []
   },
   "outputs": [
    {
     "data": {
      "text/plain": [
       "Text(0.5, 1.0, 'Distribution of Rainfall')"
      ]
     },
     "execution_count": 11,
     "metadata": {},
     "output_type": "execute_result"
    }
   ],
   "source": [
    "sns.distplot(data['rainfall_mm']).set_title(\"Distribution of Rainfall\")"
   ]
  },
  {
   "cell_type": "code",
   "execution_count": 12,
   "id": "0ac4b571-ec9d-4ea0-8bda-fa233f6e2094",
   "metadata": {
    "tags": []
   },
   "outputs": [
    {
     "data": {
      "text/plain": [
       "<Axes: title={'center': 'Distribution of Rainfall'}, xlabel='temp_c', ylabel='Density'>"
      ]
     },
     "execution_count": 12,
     "metadata": {},
     "output_type": "execute_result"
    }
   ],
   "source": [
    "sns.distplot(data['temp_c'])"
   ]
  },
  {
   "cell_type": "markdown",
   "id": "10a5913b-46a7-4048-abe9-9d41b268212e",
   "metadata": {},
   "source": [
    "### Now we will plot the counts of our categorical variables using count plots"
   ]
  },
  {
   "cell_type": "code",
   "execution_count": 13,
   "id": "38f1b717-5f79-4ace-a535-a072d036cba4",
   "metadata": {
    "tags": []
   },
   "outputs": [
    {
     "data": {
      "text/plain": [
       "Text(0.5, 1.0, 'Count of Soil Types')"
      ]
     },
     "execution_count": 13,
     "metadata": {},
     "output_type": "execute_result"
    }
   ],
   "source": [
    "sns.countplot(data=data, x='soil_type').set_title(\"Count of Soil Types\")"
   ]
  },
  {
   "cell_type": "code",
   "execution_count": 14,
   "id": "a5d97ccd-c9c0-4f85-b911-a05b83c4671d",
   "metadata": {
    "tags": []
   },
   "outputs": [
    {
     "data": {
      "text/plain": [
       "Text(0.5, 1.0, 'Count of Crop Types')"
      ]
     },
     "execution_count": 14,
     "metadata": {},
     "output_type": "execute_result"
    }
   ],
   "source": [
    "sns.countplot(data=data, x='crop').set_title(\"Count of Crop Types\")"
   ]
  },
  {
   "cell_type": "code",
   "execution_count": 15,
   "id": "23eea3cb-2976-449b-84e6-6c892b47cc29",
   "metadata": {
    "tags": []
   },
   "outputs": [
    {
     "data": {
      "text/plain": [
       "Text(0.5, 1.0, 'Count of Weather Conditions')"
      ]
     },
     "execution_count": 15,
     "metadata": {},
     "output_type": "execute_result"
    }
   ],
   "source": [
    "sns.countplot(data=data, x='weather').set_title(\"Count of Weather Conditions\")"
   ]
  },
  {
   "cell_type": "code",
   "execution_count": 16,
   "id": "ef568129-c8db-42c7-b472-d32a5c0ca2aa",
   "metadata": {
    "tags": []
   },
   "outputs": [
    {
     "data": {
      "text/plain": [
       "Text(0.5, 1.0, 'Count of Regions')"
      ]
     },
     "execution_count": 16,
     "metadata": {},
     "output_type": "execute_result"
    }
   ],
   "source": [
    "sns.countplot(data=data, x='region').set_title(\"Count of Regions\")"
   ]
  },
  {
   "cell_type": "code",
   "execution_count": null,
   "id": "c4a81633-8797-42de-899c-47c4c820c976",
   "metadata": {
    "tags": []
   },
   "outputs": [],
   "source": [
    "sns.regplot(x='rainfall_mm',y='yield_per_hect', data=data).set_title(\"Crop Yield Rainfall Distribution\")"
   ]
  },
  {
   "cell_type": "code",
   "execution_count": null,
   "id": "04ac08f2-2822-422c-9b47-b063f653e674",
   "metadata": {
    "tags": []
   },
   "outputs": [],
   "source": [
    "sns.regplot(x='temp_c',y='yield_per_hect', data=data).set_title(\"Crop Yield Temperature Distribution\")"
   ]
  },
  {
   "cell_type": "markdown",
   "id": "b28751f8-a9e7-4be2-94ab-ba370704499a",
   "metadata": {},
   "source": [
    "## Step 4: Attribute relationships and correlation"
   ]
  },
  {
   "cell_type": "code",
   "execution_count": null,
   "id": "a006a98e-4e10-4c34-a63a-08cf88eb1f7b",
   "metadata": {},
   "outputs": [],
   "source": [
    "data['color'] = data['irrigation_use'].map({True: 'blue', False: 'red'})\n",
    "\n",
    "plt.figure(figsize=(10, 6))\n",
    "sns.scatterplot(data=data, y='crop', x='yield_per_hect', hue='color', palette={'blue': 'blue', 'red': 'red'}, s=50)\n",
    "\n",
    "plt.title('Yield of Crop by Crop Type and Irrigation Usage')\n",
    "plt.xlabel('Yield of Crop (per hectare)')\n",
    "plt.ylabel('Crop Type')\n",
    "\n",
    "handles = [\n",
    "    plt.Line2D([0], [0], marker='o', color='w', label='Used', markerfacecolor='blue', markersize=10),\n",
    "    plt.Line2D([0], [0], marker='o', color='w', label='Not Used', markerfacecolor='red', markersize=10)\n",
    "]\n",
    "plt.legend(title='Irrigation Use', handles=handles, loc='upper right')\n",
    "\n",
    "\n",
    "plt.show()"
   ]
  },
  {
   "cell_type": "code",
   "execution_count": null,
   "id": "a666919a-ed5d-4ee9-b02f-b9cc288ce0d8",
   "metadata": {},
   "outputs": [],
   "source": [
    "plt.figure(figsize=(12, 8))\n",
    "scatter = sns.scatterplot(data=data, x='yield_per_hect', y='temp_c', hue='crop', palette='Set1', s=50)\n",
    "\n",
    "plt.title('Yield vs Temperature by Crop Type')\n",
    "plt.xlabel('Crop Yield (per hectare)')\n",
    "plt.ylabel('Temperature (°C)')\n",
    "plt.legend(title='Crop Type', bbox_to_anchor=(1.05, 1), loc='upper left')\n",
    "\n",
    "plt.show()"
   ]
  },
  {
   "cell_type": "code",
   "execution_count": null,
   "id": "24466f81-c949-4f22-847c-8eb9ec45edcc",
   "metadata": {},
   "outputs": [],
   "source": [
    "plt.figure(figsize=(10, 6))\n",
    "sns.scatterplot(data=data, y='crop', x='yield_per_hect', hue='soil_type', palette='Set1', s=50)\n",
    "\n",
    "plt.title('Yield of Crop by Soil Type')\n",
    "plt.xlabel('Yield of Crop (per hectare)')\n",
    "plt.ylabel('Crop Type')\n",
    "\n",
    "plt.legend(title='Soil Type', bbox_to_anchor=(1.05, 1), loc='upper left')\n",
    "\n",
    "plt.show()"
   ]
  },
  {
   "cell_type": "code",
   "execution_count": null,
   "id": "fb35354b-a1cc-4034-b794-570d27ac8c58",
   "metadata": {},
   "outputs": [],
   "source": [
    "plt.figure(figsize=(10, 6))\n",
    "sns.scatterplot(data=data, y='crop', x='yield_per_hect', hue='weather', palette='Set1', s=50)\n",
    "\n",
    "plt.title('Yield of Crop by Weather Conditions')\n",
    "plt.xlabel('Yield of Crop (per hectare)')\n",
    "plt.ylabel('Crop Type')\n",
    "\n",
    "plt.legend(title='Weather Condition', bbox_to_anchor=(1.05, 1), loc='upper left')\n",
    "\n",
    "plt.show()"
   ]
  },
  {
   "cell_type": "code",
   "execution_count": null,
   "id": "64b8e2cd-9012-40b3-b367-3ec1aa495949",
   "metadata": {},
   "outputs": [],
   "source": [
    "data['color_fert'] = data['fertilizer_use'].map({True: 'green', False: 'red'})\n",
    "\n",
    "plt.figure(figsize=(10, 6))\n",
    "sns.scatterplot(data=data, y='crop', x='yield_per_hect', hue='color_fert', palette={'green': 'green', 'red': 'red'}, s=50)\n",
    "\n",
    "plt.title('Yield of Crop by Crop Type and Fertilizer Usage')\n",
    "plt.xlabel('Yield of Crop (per hectare)')\n",
    "plt.ylabel('Crop Type')\n",
    "\n",
    "handles = [\n",
    "    plt.Line2D([0], [0], marker='o', color='w', label='Used', markerfacecolor='green', markersize=10),\n",
    "    plt.Line2D([0], [0], marker='o', color='w', label='Not Used', markerfacecolor='red', markersize=10)\n",
    "]\n",
    "plt.legend(title='Fertilizer Use', handles=handles, loc='upper right')\n",
    "\n",
    "plt.show()"
   ]
  },
  {
   "cell_type": "code",
   "execution_count": null,
   "id": "dc7c4a07-b0f6-4f7f-a3e3-36a3be6eceee",
   "metadata": {
    "tags": []
   },
   "outputs": [],
   "source": [
    "cat_cols = ['soil_type','crop','fertilizer_use','irrigation_use','weather']\n",
    "for cols in cat_cols:\n",
    "    yield_summary = data.groupby(cols)['yield_per_hect'].agg(['sum','mean']).reset_index()\n",
    "    yield_summary.columns = [cols, 'total_yield', 'average_yield']\n",
    "    print(yield_summary,'\\n')\n",
    "    "
   ]
  },
  {
   "cell_type": "markdown",
   "id": "3fa58ce0-3894-4c27-91f8-bb417f342d7a",
   "metadata": {},
   "source": [
    "## step 5: Data Trasformation - One-Hot Encoding for categorical Variables"
   ]
  },
  {
   "cell_type": "code",
   "execution_count": null,
   "id": "b2343525-f97e-4bfc-98de-ef37b76d31e7",
   "metadata": {
    "tags": []
   },
   "outputs": [],
   "source": [
    "data_numeric = pd.get_dummies(data=data, columns=['region','soil_type','crop','weather'])\n",
    "\n",
    "for col in data_numeric.columns:\n",
    "    if data_numeric[col].dtype == 'bool':\n",
    "        data_numeric[col] = data_numeric[col].astype(int)\n",
    "\n",
    "data_numeric.info()"
   ]
  },
  {
   "cell_type": "code",
   "execution_count": null,
   "id": "68c789f1-c8e1-48d6-9846-38629e8f103a",
   "metadata": {
    "tags": []
   },
   "outputs": [],
   "source": [
    "correlation = data_numeric.corr()['yield_per_hect'].sort_values(ascending=False)\n",
    "print(correlation)"
   ]
  },
  {
   "cell_type": "markdown",
   "id": "ebede132-7d63-4511-8ce0-dc01964e50d6",
   "metadata": {},
   "source": [
    "## Step 5: Preprocess The Data"
   ]
  },
  {
   "cell_type": "markdown",
   "id": "4c26f02a-1d16-498d-8251-d092a6ac1893",
   "metadata": {},
   "source": [
    "### Inital step will be to round our float variables down"
   ]
  },
  {
   "cell_type": "code",
   "execution_count": null,
   "id": "8f851b8e-e114-4ac1-91d8-913b32de05b4",
   "metadata": {
    "tags": []
   },
   "outputs": [],
   "source": [
    "data_numeric['yield_per_hect'] = data_numeric['yield_per_hect'].round(4)\n",
    "data_numeric['rainfall_mm'] = data_numeric['rainfall_mm'].round(2)\n",
    "data_numeric['temp_c'] = data_numeric['temp_c'].round(2)\n",
    "data_numeric.shape"
   ]
  },
  {
   "cell_type": "code",
   "execution_count": null,
   "id": "6edf916e-7daa-4720-b5b9-410e92b162e8",
   "metadata": {},
   "outputs": [],
   "source": [
    "data.shape"
   ]
  },
  {
   "cell_type": "markdown",
   "id": "6e79797f-8f4c-4757-ac27-dd056a092243",
   "metadata": {},
   "source": [
    "### Now we will remove unecessary columns"
   ]
  },
  {
   "cell_type": "code",
   "execution_count": null,
   "id": "398bdc96-40d5-43eb-a3a3-0363fb96067d",
   "metadata": {},
   "outputs": [],
   "source": [
    "data_numeric = data_numeric.drop('days_to_harvest', axis=1)"
   ]
  },
  {
   "cell_type": "code",
   "execution_count": null,
   "id": "e5df3b6e-3084-4c65-b128-627dc2d131fd",
   "metadata": {},
   "outputs": [],
   "source": [
    "data_numeric = data_numeric.reset_index(drop=True)"
   ]
  },
  {
   "cell_type": "markdown",
   "id": "5d6c5175-96b0-4d7c-a722-59df2c816d42",
   "metadata": {
    "tags": []
   },
   "source": [
    "## Step 6: Model Creation\n",
    "\n",
    "### Our inital model will be a standard **Multiple Linear Regression Model**"
   ]
  },
  {
   "cell_type": "code",
   "execution_count": null,
   "id": "fda34403-5809-488c-b2ba-84df3375b60e",
   "metadata": {
    "tags": []
   },
   "outputs": [],
   "source": [
    "x_data = data_numeric.drop('yield_per_hect', axis=1)\n",
    "y_data = data_numeric['yield_per_hect']\n",
    "\n",
    "x_train, x_test, y_train, y_test = train_test_split(x_data, y_data, test_size = 0.2, random_state=1)\n",
    "print(\"number of test samples :\", x_test.shape[0])\n",
    "print(\"number of training samples:\",x_train.shape[0])"
   ]
  },
  {
   "cell_type": "code",
   "execution_count": null,
   "id": "0994e5b1-b87a-45f5-95b0-b1544062c903",
   "metadata": {
    "tags": []
   },
   "outputs": [],
   "source": [
    "lm = LinearRegression()\n",
    "lm.fit(x_train,y_train)\n",
    "Y_hat = lm.predict(x_test)"
   ]
  },
  {
   "cell_type": "code",
   "execution_count": null,
   "id": "3c3dae1d-cc97-44ed-8d32-73f68554fb13",
   "metadata": {
    "tags": []
   },
   "outputs": [],
   "source": [
    "lm.score(x_test,y_test)"
   ]
  },
  {
   "cell_type": "code",
   "execution_count": null,
   "id": "92a60b91-c155-4c65-b184-47adce27c7df",
   "metadata": {
    "tags": []
   },
   "outputs": [],
   "source": [
    "plt.figure(figsize=(10, 6))\n",
    "ax1 = sns.distplot(data_numeric['yield_per_hect'], hist=False, color=\"r\", label=\"Actual Value\")\n",
    "sns.distplot(Y_hat, hist=False, color=\"b\", label=\"Fitted Values\" , ax=ax1)\n",
    "\n",
    "plt.title('Actual vs Fitted Values for Yield')\n",
    "plt.xlabel('Yield Per Hectare')\n",
    "plt.ylabel('Density')\n",
    "plt.show()"
   ]
  },
  {
   "cell_type": "code",
   "execution_count": null,
   "id": "e4f09ccb-d462-4d64-8094-8af738658866",
   "metadata": {
    "tags": []
   },
   "outputs": [],
   "source": [
    "rcross = cross_val_score(lm,x_data, y_data, cv=4)\n",
    "mse = mean_squared_error(y_test, Y_hat)"
   ]
  },
  {
   "cell_type": "code",
   "execution_count": null,
   "id": "2eb2af9d-55c1-4181-90eb-09acf7d4fe1b",
   "metadata": {
    "tags": []
   },
   "outputs": [],
   "source": [
    "print(\"Cross Validation Scores:\", rcross)\n",
    "print(\"Cross Validation Mean:\",rcross.mean())\n",
    "\n",
    "print(\"Mean-Squared_error:\",mse)"
   ]
  },
  {
   "cell_type": "markdown",
   "id": "3b2297de-8a2a-4b85-b80e-845a1ab4a922",
   "metadata": {},
   "source": [
    "## Conclusions from initial Model Construction:\n",
    "- Model performs decent but shows signs of over fitting and lack of generalization.\n",
    "- Model visualizations show \"steps\" and do not smoothen to the actual distribution\n",
    "- R2 Score and cross validation score are consistent showing good progress"
   ]
  },
  {
   "cell_type": "markdown",
   "id": "012f2c3c-0ae6-464e-a667-23cd92544a41",
   "metadata": {},
   "source": [
    "With our current linear regression model we acheive a R2 score of 0.913, and when using a cross validation score with 4 folds we get a mean of 0.912. This shows consistensy and decent performance. We will now refine this model by adding polynomial features, using regularization, and performing a grid search for hyperparameters."
   ]
  },
  {
   "cell_type": "markdown",
   "id": "42092ed7-4257-47aa-ae3e-fefd1f1c55b0",
   "metadata": {},
   "source": [
    "## Next Steps: Implement Polynolinomial features to attributes not displaying a linear relationship with target variable (Yield)\n",
    "\n",
    "### Attributes with Linear Relationship: Rainfall mm, Fertilizer Use, Irrigation Use\n",
    "### Attributes without a Linear Relationship: Region, Soil Type, Crop, Temperature, Weather"
   ]
  },
  {
   "cell_type": "code",
   "execution_count": null,
   "id": "f76e83c4-8c76-4d1e-90d5-e2ad58da82ac",
   "metadata": {},
   "outputs": [],
   "source": [
    "data_numeric.columns"
   ]
  },
  {
   "cell_type": "code",
   "execution_count": null,
   "id": "1036f97e-2898-4c8e-9fee-afd6c589410d",
   "metadata": {},
   "outputs": [],
   "source": [
    "data_numeric.info()"
   ]
  },
  {
   "cell_type": "code",
   "execution_count": null,
   "id": "99e44157-5e4a-469a-a2a1-7eaccc98fc68",
   "metadata": {},
   "outputs": [],
   "source": [
    "linear_columns = ['rainfall_mm', 'fertilizer_use', 'irrigation_use']\n",
    "\n",
    "non_linear_columns = ['region_East', 'region_North', 'region_South',\n",
    "       'region_West', 'soil_type_Chalky', 'soil_type_Clay', 'soil_type_Loam',\n",
    "       'soil_type_Peaty', 'soil_type_Sandy', 'soil_type_Silt', 'crop_Barley',\n",
    "       'crop_Cotton', 'crop_Maize', 'crop_Rice', 'crop_Soybean', 'crop_Wheat',\n",
    "       'weather_Cloudy', 'weather_Rainy', 'weather_Sunny']\n",
    "\n",
    "target_column = 'yield_per_hect'"
   ]
  },
  {
   "cell_type": "code",
   "execution_count": null,
   "id": "016d136a-c091-49d5-8bbf-04f3127eb8b9",
   "metadata": {},
   "outputs": [],
   "source": [
    "linear_features = data_numeric[linear_columns]\n",
    "non_linear_features = data_numeric[non_linear_columns]"
   ]
  },
  {
   "cell_type": "code",
   "execution_count": null,
   "id": "29bfd20f-4a05-4dc3-85cb-0a3beeebbfb3",
   "metadata": {},
   "outputs": [],
   "source": [
    "poly = PolynomialFeatures(degree=2, include_bias=False)\n",
    "non_linear_poly = poly.fit_transform(non_linear_features)"
   ]
  },
  {
   "cell_type": "code",
   "execution_count": null,
   "id": "f8e96c62-bf6b-4b20-b0af-dde9658be92d",
   "metadata": {},
   "outputs": [],
   "source": [
    "non_linear_poly_df = pd.DataFrame(non_linear_poly, columns=poly.get_feature_names_out(non_linear_columns))"
   ]
  },
  {
   "cell_type": "code",
   "execution_count": null,
   "id": "26eed0ca-583c-4718-a684-f3fb40a42a64",
   "metadata": {},
   "outputs": [],
   "source": [
    "final_features = pd.concat([linear_features, non_linear_poly_df], axis=1)"
   ]
  },
  {
   "cell_type": "code",
   "execution_count": null,
   "id": "55aed99e-f265-4561-8801-4246754f50d6",
   "metadata": {},
   "outputs": [],
   "source": [
    "X = final_features \n",
    "y = data_numeric[target_column]  "
   ]
  },
  {
   "cell_type": "code",
   "execution_count": null,
   "id": "aaace37c-55fa-4e74-8e31-d88d551a0eb3",
   "metadata": {},
   "outputs": [],
   "source": [
    "print(f\"Number of rows in X (final_features): {len(final_features)}\")\n",
    "print(f\"Number of rows in y (target_column): {len(data_numeric[target_column])}\")"
   ]
  },
  {
   "cell_type": "code",
   "execution_count": null,
   "id": "f3c5982c-f44b-467f-96fa-5d167ad0f0b7",
   "metadata": {},
   "outputs": [],
   "source": [
    "X_train, X_test, y_train, y_test = train_test_split(X, y, test_size=0.2, random_state=42)"
   ]
  },
  {
   "cell_type": "code",
   "execution_count": null,
   "id": "3c54b360-ab9d-48cf-a916-19a6b3d4ab70",
   "metadata": {
    "tags": []
   },
   "outputs": [],
   "source": [
    "model = LinearRegression()\n",
    "model.fit(X_train, y_train)"
   ]
  },
  {
   "cell_type": "code",
   "execution_count": null,
   "id": "43310dc7-fed4-4c30-b4a0-0b23db178c1f",
   "metadata": {
    "tags": []
   },
   "outputs": [],
   "source": [
    "y_pred = model.predict(X_test)"
   ]
  },
  {
   "cell_type": "code",
   "execution_count": null,
   "id": "2a386da1-738a-48f9-8a91-1ed5504cc679",
   "metadata": {
    "tags": []
   },
   "outputs": [],
   "source": [
    "mse = mean_squared_error(y_test, y_pred)\n",
    "r2 = r2_score(y_test, y_pred)"
   ]
  },
  {
   "cell_type": "code",
   "execution_count": null,
   "id": "a1a1772e-d75d-4675-806d-29938c35d1d3",
   "metadata": {
    "tags": []
   },
   "outputs": [],
   "source": [
    "print(f\"Mean Squared Error: {mse}\")\n",
    "print(f\"R2 Score: {r2}\")"
   ]
  },
  {
   "cell_type": "code",
   "execution_count": null,
   "id": "6c80df7b-b84f-438d-9fcb-6d31e341226a",
   "metadata": {
    "tags": []
   },
   "outputs": [],
   "source": [
    "plt.scatter(y_test, y_pred)\n",
    "plt.plot([min(y_test), max(y_test)], [min(y_test), max(y_test)], color='red')  \n",
    "plt.xlabel('Actual Yield')\n",
    "plt.ylabel('Predicted Yield')\n",
    "plt.title('Actual vs Predicted Yield')\n",
    "plt.show()"
   ]
  },
  {
   "cell_type": "code",
   "execution_count": null,
   "id": "50806e05-5193-4136-8f57-20e8ace65c18",
   "metadata": {},
   "outputs": [],
   "source": [
    "plt.figure(figsize=(10, 6))\n",
    "\n",
    "ax1 = sns.kdeplot(data_numeric['yield_per_hect'], color=\"r\", label=\"Actual Value\", fill=False)\n",
    "\n",
    "sns.kdeplot(y_pred, color=\"b\", label=\"Fitted Values\", fill=False, ax=ax1)\n",
    "\n",
    "plt.title('Actual vs Fitted Values for Yield')\n",
    "plt.xlabel('Yield Per Hectare')\n",
    "plt.ylabel('Density')\n",
    "\n",
    "plt.legend()\n",
    "plt.show()"
   ]
  },
  {
   "cell_type": "markdown",
   "id": "04e80065-fa23-4798-bd6f-af58c1b76d47",
   "metadata": {},
   "source": [
    "## Conclusions From Polynomial Feature Implementation:\n",
    "- Did not improve the model\n",
    "- Lowered r2 score, increased MSE"
   ]
  },
  {
   "cell_type": "markdown",
   "id": "6869193b-ca0e-4f43-bc60-6f35467d5c26",
   "metadata": {},
   "source": [
    "## Next Steps: Introduce Ridge Regression and Gridsearching Hyperparameters."
   ]
  },
  {
   "cell_type": "code",
   "execution_count": null,
   "id": "7d946957-a9c9-4a67-ba57-e59c76161bf1",
   "metadata": {},
   "outputs": [],
   "source": [
    "RidgeModel = Ridge(alpha=1)"
   ]
  },
  {
   "cell_type": "code",
   "execution_count": null,
   "id": "f3387ec8-b582-4ccb-b923-352f91fc5abf",
   "metadata": {},
   "outputs": [],
   "source": [
    "RidgeModel.fit(X_train,y_train)"
   ]
  },
  {
   "cell_type": "code",
   "execution_count": null,
   "id": "84fdcafd-3029-4a58-a85b-db452d0b16f0",
   "metadata": {},
   "outputs": [],
   "source": [
    "yhat=RidgeModel.predict(X_test)"
   ]
  },
  {
   "cell_type": "code",
   "execution_count": null,
   "id": "7d7dcb28-9c2f-4943-9ac9-ddb82f772979",
   "metadata": {},
   "outputs": [],
   "source": [
    "print(r2_score(y_test,yhat))"
   ]
  },
  {
   "cell_type": "code",
   "execution_count": null,
   "id": "b07ceb53-0444-4a5e-830a-6e1d0e94d2f9",
   "metadata": {},
   "outputs": [],
   "source": [
    "plt.figure(figsize=(8, 6))\n",
    "plt.scatter(y_test, yhat, color='blue', alpha=0.5)\n",
    "plt.plot([min(y_test), max(y_test)], [min(y_test), max(y_test)], color='red', linestyle='--', linewidth=2)  # Line for perfect predictions\n",
    "plt.xlabel('Actual Yield')\n",
    "plt.ylabel('Predicted Yield')\n",
    "plt.title('Actual vs Predicted Yield (Ridge Regression)')\n",
    "plt.legend()\n",
    "plt.show()"
   ]
  },
  {
   "cell_type": "code",
   "execution_count": null,
   "id": "6f71c79e-81ad-4663-b2ae-0ebe440005f3",
   "metadata": {},
   "outputs": [],
   "source": [
    "selected_features = ['rainfall_mm', 'fertilizer_use', 'irrigation_use', 'temp_c']\n",
    "X = data_numeric[selected_features]\n",
    "y = data_numeric['yield_per_hect']\n",
    "\n",
    "poly = PolynomialFeatures(degree=2, include_bias=False)  \n",
    "X_poly = poly.fit_transform(X)\n",
    "\n",
    "X_train, X_test, y_train, y_test = train_test_split(X_poly, y, test_size=0.2, random_state=42)\n",
    "\n",
    "model = Ridge(alpha=0.1) \n",
    "model.fit(X_train, y_train)\n",
    "\n",
    "y_pred = model.predict(X_test)\n",
    "r2 = r2_score(y_test, y_pred)\n",
    "print(f\"R2 Score: {r2}\")\n",
    "\n",
    "plt.figure(figsize=(8, 6))\n",
    "plt.scatter(y_test, y_pred, color='blue', alpha=0.5)\n",
    "plt.plot([min(y_test), max(y_test)], [min(y_test), max(y_test)], color='red', linestyle='--', linewidth=2)  \n",
    "plt.xlabel('Actual Yield')\n",
    "plt.ylabel('Predicted Yield')\n",
    "plt.title('Actual vs Predicted Yield (Polynomial Model with Selected Features)')\n",
    "plt.show()\n",
    "\n",
    "plt.figure(figsize=(10, 6))\n",
    "ax = sns.kdeplot(y_test, color=\"r\", label=\"Actual Value\", fill=False)\n",
    "sns.kdeplot(y_pred, color=\"b\", label=\"Fitted Values\", fill=False, ax=ax)\n",
    "plt.title('Actual vs Fitted Values for Yield (Polynomial Model)')\n",
    "plt.xlabel('Yield Per Hectare')\n",
    "plt.ylabel('Density')\n",
    "plt.legend()\n",
    "plt.show()"
   ]
  },
  {
   "cell_type": "code",
   "execution_count": null,
   "id": "c63eaf96-7785-49d4-acec-76842d94747b",
   "metadata": {},
   "outputs": [],
   "source": [
    "coefficients = model.coef_\n",
    "\n",
    "feature_names = poly.get_feature_names_out(selected_features)\n",
    "\n",
    "coef_df = pd.DataFrame({\n",
    "    'Feature': feature_names,\n",
    "    'Coefficient': coefficients\n",
    "})\n",
    "\n",
    "coef_df['abs_coefficient'] = coef_df['Coefficient'].apply(np.abs)\n",
    "coef_df = coef_df.sort_values(by='abs_coefficient', ascending=False)\n",
    "\n",
    "plt.figure(figsize=(10, 8))\n",
    "sns.heatmap(coef_df[['Coefficient']].T, cmap='coolwarm', annot=True, cbar=True, center=0, fmt='.2f', \n",
    "            linewidths=1, xticklabels=coef_df['Feature'], yticklabels=False)\n",
    "plt.title('Feature Importance Heatmap')\n",
    "plt.show()"
   ]
  },
  {
   "cell_type": "code",
   "execution_count": null,
   "id": "3bab4de6-47b9-4eb9-89b9-04e6b8b4a6a6",
   "metadata": {},
   "outputs": [],
   "source": []
  }
 ],
 "metadata": {
  "kernelspec": {
   "display_name": "Python 3 (ipykernel)",
   "language": "python",
   "name": "python3"
  },
  "language_info": {
   "codemirror_mode": {
    "name": "ipython",
    "version": 3
   },
   "file_extension": ".py",
   "mimetype": "text/x-python",
   "name": "python",
   "nbconvert_exporter": "python",
   "pygments_lexer": "ipython3",
   "version": "3.11.9"
  }
 },
 "nbformat": 4,
 "nbformat_minor": 5
}
